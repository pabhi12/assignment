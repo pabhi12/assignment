{
 "cells": [
  {
   "cell_type": "code",
   "execution_count": null,
   "id": "d1c5ba20-4dbc-4dc5-8607-bd000d9b89c9",
   "metadata": {},
   "outputs": [],
   "source": [
    "var1 = ''\n",
    "print(type(var1))"
   ]
  },
  {
   "cell_type": "code",
   "execution_count": null,
   "id": "6ac77984-2c7f-48b4-9120-20819775ecf9",
   "metadata": {},
   "outputs": [],
   "source": [
    "var2 = '[ DS , ML , Python]'\n",
    "print(type(var2))"
   ]
  },
  {
   "cell_type": "code",
   "execution_count": null,
   "id": "81f6d671-acdb-45cb-842e-fc0f2eae47e8",
   "metadata": {},
   "outputs": [],
   "source": [
    "var3 = [ 'DS' , 'ML' , 'Python' ]\n",
    "print(type(var3))"
   ]
  },
  {
   "cell_type": "code",
   "execution_count": null,
   "id": "8268413a-5e76-4e7d-894e-a19080a2aa9c",
   "metadata": {},
   "outputs": [],
   "source": [
    "var4 = 1.\n",
    "print(type(var4))"
   ]
  },
  {
   "cell_type": "code",
   "execution_count": null,
   "id": "652d74f0-29c3-4147-9ab8-9e1c9e78815b",
   "metadata": {},
   "outputs": [],
   "source": [
    "a='pranay'\n",
    "b=[12,3445,555,55,558]\n",
    "c=1.34\n",
    "d=(12,'rrt',[1,3,45,5])"
   ]
  },
  {
   "cell_type": "code",
   "execution_count": null,
   "id": "728a6604-5e4d-4335-ae4e-55d52e6938c0",
   "metadata": {},
   "outputs": [],
   "source": [
    "a=10\n",
    "b=3\n",
    "x=a/b\n",
    "print(x) #to find the quotient and it can be in decimal\n",
    "y=a//b   \n",
    "print(y) #to find integer part of the quotient \n",
    "z=a**b\n",
    "print(z)#to find the cube or square or any power of th enumber\n",
    "p=a%b\n",
    "print(p) #to find the remainder it can help to find even or odd number"
   ]
  },
  {
   "cell_type": "code",
   "execution_count": null,
   "id": "70f284a4-70fa-401b-bb88-822226c6f1d1",
   "metadata": {},
   "outputs": [],
   "source": [
    "a=[1,3,'ee',1.34, False, (1,2,3) ,[1,2,3], True ,12.34, \"DD\"]\n",
    "n=1\n",
    "for i in a:\n",
    "    print (n,')',i,'------',type(i))\n",
    "    n+=1"
   ]
  },
  {
   "cell_type": "code",
   "execution_count": 1,
   "id": "8be1a183-3d6e-48fc-bce1-f9a101899556",
   "metadata": {},
   "outputs": [
    {
     "name": "stdin",
     "output_type": "stream",
     "text": [
      " 24\n",
      " 5\n"
     ]
    },
    {
     "name": "stdout",
     "output_type": "stream",
     "text": [
      "Number A is not divisible by B.\n"
     ]
    }
   ],
   "source": [
    "A = int(input())\n",
    "B=int(input())\n",
    "count = 0\n",
    "\n",
    "while A % B == 0:\n",
    "    A = A // B\n",
    "    count += 1\n",
    "\n",
    "if count > 0:\n",
    "    print(f\"Number A is divisible by B {count} times.\")\n",
    "else:\n",
    "    print(\"Number A is not divisible by B.\")"
   ]
  },
  {
   "cell_type": "code",
   "execution_count": null,
   "id": "6a25f926-e027-4588-a7b0-7f52432b0e7e",
   "metadata": {},
   "outputs": [],
   "source": [
    "lst = []\n",
    " \n",
    "\n",
    "n = 25\n",
    "\n",
    "for i in range(0, 25):\n",
    "    ele = int(input())\n",
    "    lst.append(ele) \n",
    " \n",
    "print(lst)\n",
    "\n",
    "for f in lst:\n",
    "    if f % 3 ==0:\n",
    "        print(f,'----divisible by 3')\n",
    "    else:\n",
    "        print(f,'----not divisible by 3')"
   ]
  },
  {
   "cell_type": "code",
   "execution_count": null,
   "id": "9759c561-9931-427a-8a10-b65ecb478860",
   "metadata": {},
   "outputs": [],
   "source": [
    "#str ,tuple immutable #the elements entered cannot be changed\n",
    "#list mutable #elements entered can be changed\n"
   ]
  },
  {
   "cell_type": "code",
   "execution_count": null,
   "id": "14206654-84fb-4c97-a86e-f092ec27860b",
   "metadata": {},
   "outputs": [],
   "source": []
  }
 ],
 "metadata": {
  "kernelspec": {
   "display_name": "Python 3 (ipykernel)",
   "language": "python",
   "name": "python3"
  },
  "language_info": {
   "codemirror_mode": {
    "name": "ipython",
    "version": 3
   },
   "file_extension": ".py",
   "mimetype": "text/x-python",
   "name": "python",
   "nbconvert_exporter": "python",
   "pygments_lexer": "ipython3",
   "version": "3.10.8"
  }
 },
 "nbformat": 4,
 "nbformat_minor": 5
}
